{
 "cells": [
  {
   "cell_type": "code",
   "execution_count": 46,
   "id": "056dbab3",
   "metadata": {},
   "outputs": [],
   "source": [
    "import os\n",
    "import glob\n",
    "import pandas as pd\n",
    "import openpyxl as opxl"
   ]
  },
  {
   "cell_type": "code",
   "execution_count": 15,
   "id": "ed4ed297",
   "metadata": {},
   "outputs": [
    {
     "name": "stdout",
     "output_type": "stream",
     "text": [
      "['10Shin Chan S05E10 Hindi - @hdhindicinemas.mp4', '11Shin Chan S05E11 Hindi - @hdhindicinemas.mp4', '12Shin Chan S05E12 Hindi - @hdhindicinemas.mp4', '13Shin Chan S05E13 Hindi - @hdhindicinemas.mp4', '14Shin Chan S05E14 Hindi - @hdhindicinemas.mp4', '15Shin Chan S05E15 Hindi - @hdhindicinemas.mp4', '16Shin Chan S05E16 Hindi - @hdhindicinemas.mp4', '17Shin Chan S05E17 Hindi - @hdhindicinemas.mp4', '18Shin Chan S05E18 Hindi - @hdhindicinemas.mp4', '19Shin Chan S05E19 Hindi - @hdhindicinemas.mp4', '1Shin Chan S05E01 Hindi - @hdhindicinemas.mp4', '20Shin Chan S05E20 Hindi - @hdhindicinemas.mp4', '21Shin Chan S05E21 Hindi - @hdhindicinemas.mp4', '23Shin Chan S05E23 Hindi - @hdhindicinemas.mp4', '24Shin Chan S05E24 Hindi - @hdhindicinemas.mp4', '25Shin Chan S05E25 Hindi - @hdhindicinemas.mp4', '26Shin Chan S05E26 Hindi - @hdhindicinemas.mp4', '27Shin Chan S05E27 Hindi - @hdhindicinemas.mp4', '28Shin Chan S05E28 Hindi - @hdhindicinemas.mp4', '29Shin Chan S05E29 Hindi - @hdhindicinemas.mp4', '2Shin Chan S05E02 Hindi - @hdhindicinemas.mp4', '30Shin Chan S05E30 Hindi - @hdhindicinemas.mp4', '31Shin Chan S05E31 Hindi - @hdhindicinemas.mp4', '32Shin Chan S05E32 Hindi - @hdhindicinemas.mp4', '33Shin Chan S05E33 Hindi - @hdhindicinemas.mp4', '34Shin Chan S05E34 Hindi - @hdhindicinemas.mp4', '35Shin Chan S05E35 Hindi - @hdhindicinemas.mp4', '36Shin Chan S05E36 Hindi - @hdhindicinemas.mp4', '37Shin Chan S05E37 Hindi - @hdhindicinemas.mp4', '38Shin Chan S05E38 Hindi - @hdhindicinemas.mp4', '39Shin Chan S05E39 Hindi - @hdhindicinemas.mp4', '3Shin Chan S05E03 Hindi - @hdhindicinemas.mp4', '40Shin Chan S05E40 Hindi - @hdhindicinemas.mp4', '41Shin Chan S05E41 Hindi - @hdhindicinemas.mp4', '42Shin Chan S05E42 Hindi - @hdhindicinemas.mp4', '43Shin Chan S05E43 Hindi - @hdhindicinemas.mp4', '44Shin Chan S05E44 Hindi - @hdhindicinemas.mp4', '45Shin Chan S05E45 Hindi - @hdhindicinemas.mp4', '46Shin Chan S05E46 Hindi - @hdhindicinemas.mp4', '47Shin Chan S05E47 Hindi - @hdhindicinemas.mp4', '48Shin Chan S05E48 Hindi - @hdhindicinemas.mp4', '49Shin Chan S05E49 Hindi - @hdhindicinemas.mp4', '4Shin Chan S05E04 Hindi - @hdhindicinemas.mp4', '50Shin Chan S05E50 Hindi - @hdhindicinemas.mp4', '51Shin Chan S05E51 Hindi - @hdhindicinemas.mp4', '52Shin Chan S05E52 Hindi - @hdhindicinemas.mp4', '5Shin Chan S05E05 Hindi - @hdhindicinemas.mp4', '6Shin Chan S05E06 Hindi - @hdhindicinemas.mp4', '7Shin Chan S05E07 Hindi - @hdhindicinemas.mp4', '8Shin Chan S05E08 Hindi - @hdhindicinemas.mp4', '9Shin Chan S05E09 Hindi - @hdhindicinemas.mp4', '@Shinchanhindi_S05E02.mkv', '@Shinchanhindi_S05E03.mkv', '@Shinchanhindi_S05E05.mkv', '@Shinchanhindi_S05E06.mkv', '@Shinchanhindi_S05E07.mkv', '@Shinchanhindi_S05E08.mkv', '@Shinchanhindi_S05E09.mkv', 'Shinchan Action kamen Vs Higure @Shinchanhindi.mkv', 'ShinchanS01E01 @shinchanhindi.mkv', 'ShinchanS01E02 @shinchanhindi.mkv', 'ShinchanS01E03 @shinchanhindi.mkv', 'ShinchanS01E04 @shinchanhindi.mkv', 'ShinchanS01E06@shinchanhindi.mkv', 'ShinchanS01E07@shinchanhindi.mkv', 'ShinchanS01E08@shinchanhindi.mkv', 'ShinchanS01E09 @shinchanhindi.mkv', 'ShinchanS01E10@shinchanhindi.mkv', 'ShinchanS01E11@shinchanhindi.mkv', 'ShinchanS01E12@shinchanhindi.mkv', 'ShinchanS01E13@shinchanhindi.mkv', 'ShinchanS01E16@shinchanhindi.mkv', 'ShinchanS01E17@shinchanhindi.mkv', 'ShinchanS01E18@shinchanhindi.mkv', 'ShinchanS01E19@shinchanhindi.mkv', 'ShinchanS01E20@shinchanhindi.mkv', 'ShinchanS01E22@shinchanhindi.mkv', 'ShinchanS01E23@shinchanhindi.mkv', 'ShinchanS01E24@shinchanhindi.mkv', 'ShinchanS01E25@shinchanhindi.mkv', 'ShinchanS01E26@shinchanhindi.mkv', 'ShinchanS01E27@shinchanhindi.mkv', 'ShinchanS01E28@shinchanhindi.mkv', 'ShinchanS01E29@shinchanhindi.mkv', 'ShinchanS01E30@shinchanhindi.mkv', 'ShinchanS01E31@shinchanhindi.mkv', 'ShinchanS01E32@shinchanhindi.mkv', 'ShinchanS01E33@shinchanhindi.mkv', 'ShinchanS01E34@shinchanhindi.mkv', 'ShinchanS01E35@shinchanhindi.mkv', 'ShinchanS01E36@shinchanhindi.mkv', 'ShinchanS01E37@shinchanhindi.mkv', 'ShinchanS01E38@shinchanhindi.mkv', 'ShinchanS01E39@shinchanhindi.mkv', 'ShinchanS01E40@shinchanhindi.mkv', 'ShinchanS01E41@shinchanhindi.mkv', 'ShinchanS01E42@shinchanhindi.mkv', 'ShinchanS01E43@shinchanhindi.mkv', 'ShinchanS01E44@shinchanhindi.mkv', 'ShinchanS01E45@shinchanhindi.mkv', 'ShinchanS01E46@shinchanhindi.mkv', 'ShinchanS01E47@shinchanhindi.mkv', 'ShinchanS01E48@shinchanhindi.mkv', 'ShinchanS01E49@shinchanhindi.mkv', 'ShinchanS01E4@shinchanhindi.mkv', 'ShinchanS01E50@shinchanhindi.mkv', 'ShinchanS01E51@shinchanhindi.mkv', 'ShinchanS01E52@shinchanhindi.mkv', 'ShinchanS01E5@shinchanhindi.mkv', 'ShinchanS02E01-@shinchanhindi.mkv', 'ShinchanS02E02-@shinchanhindi.mkv', 'ShinchanS02E03-@shinchanhindi.mkv', 'ShinchanS02E04-@shinchanhindi.mkv', 'ShinchanS02E05-@shinchanhindi.mkv', 'ShinchanS02E06-@shinchanhindi.mkv', 'ShinchanS02E07-@shinchanhindi.mkv', 'ShinchanS02E08-@shinchanhindi.mkv', 'ShinchanS02E09-@shinchanhindi.mkv', 'ShinchanS02E10-@shinchanhindi.mkv', 'ShinchanS02E11-@shinchanhindi.mkv', 'ShinchanS02E12-@shinchanhindi.mkv', 'ShinchanS02E13-@shinchanhindi.mkv', 'ShinchanS02E14-@shinchanhindi.mkv', 'ShinchanS02E15-@shinchanhindi.mkv', 'ShinchanS02E16-@shinchanhindi.mkv', 'ShinchanS02E17-@shinchanhindi.mkv', 'ShinchanS02E18-@shinchanhindi.mkv', 'ShinchanS02E19-@shinchanhindi.mkv', 'ShinchanS02E20-@shinchanhindi.mkv', 'ShinchanS02E21-@shinchanhindi.mkv', 'ShinchanS02E22-@shinchanhindi.mkv', 'ShinchanS02E23-@shinchanhindi.mkv', 'ShinchanS02E24-@shinchanhindi.mkv', 'ShinchanS02E25-@shinchanhindi.mkv', 'ShinchanS02E26-@shinchanhindi.mkv', 'ShinchanS02E27-@shinchanhindi.mkv', 'ShinchanS02E28-@shinchanhindi.mkv', 'ShinchanS02E29-@shinchanhindi.mkv', 'ShinchanS02E30-@shinchanhindi.mkv', 'ShinchanS02E31-@shinchanhindi.mkv', 'ShinchanS02E32-@shinchanhindi.mkv', 'ShinchanS02E33-@shinchanhindi.mkv', 'ShinchanS02E34-@shinchanhindi.mkv', 'ShinchanS02E35-@shinchanhindi.mkv', 'ShinchanS02E36-@shinchanhindi.mkv', 'ShinchanS02E37-@shinchanhindi.mkv', 'ShinchanS02E38-@shinchanhindi.mkv', 'ShinchanS02E39-@shinchanhindi.mkv', 'ShinchanS02E40-@shinchanhindi.mkv', 'ShinchanS02E41-@shinchanhindi.mkv', 'ShinchanS02E42-@shinchanhindi.mkv', 'ShinchanS02E43-@shinchanhindi.mkv', 'ShinchanS02E44-@shinchanhindi.mkv', 'ShinchanS02E45-@shinchanhindi.mkv', 'ShinchanS02E46-@shinchanhindi.mkv', 'ShinchanS02E47-@shinchanhindi.mkv', 'ShinchanS02E48-@shinchanhindi.mkv', 'ShinchanS02E49-@shinchanhindi.mkv', 'ShinchanS02E50-@shinchanhindi.mkv', 'ShinchanS02E52-@shinchanhindi.mkv', 'ShinchanS03E01@shinchanhindi.mkv', 'ShinchanS03E02@shinchanhindi.mkv', 'ShinchanS03E03@shinchanhindi.mkv', 'ShinChanS3EP04@shinchanhindi.mp4', 'Shinchan_Bungle In the Jungle.@shinchanhindi.mkv', 'Shinchan_movie_Kaanta_Laga_@shinchanhindi.mp4', 'Shin_Chan_Movie_01_in_Treasures_Of_the_Buri_Buri_Kingdom_DeadToonsIndia.mkv', 'Shin_Chan_Movie_04_Adventures_In.mkv', 'Shin_Chan_S05E01.mkv']\n"
     ]
    }
   ],
   "source": [
    "files = os.listdir('f:/Shinchan')\n",
    "print(files)\n",
    "# Returns\n",
    "# ['November.xlsx', 'October.xlsx', 'Other Files']\n"
   ]
  },
  {
   "cell_type": "code",
   "execution_count": 21,
   "id": "aef8e810",
   "metadata": {},
   "outputs": [
    {
     "name": "stdout",
     "output_type": "stream",
     "text": [
      "['f:\\\\Shinchan\\\\10Shin Chan S05E10 Hindi - @hdhindicinemas.mp4', 'f:\\\\Shinchan\\\\11Shin Chan S05E11 Hindi - @hdhindicinemas.mp4', 'f:\\\\Shinchan\\\\12Shin Chan S05E12 Hindi - @hdhindicinemas.mp4', 'f:\\\\Shinchan\\\\13Shin Chan S05E13 Hindi - @hdhindicinemas.mp4', 'f:\\\\Shinchan\\\\14Shin Chan S05E14 Hindi - @hdhindicinemas.mp4', 'f:\\\\Shinchan\\\\15Shin Chan S05E15 Hindi - @hdhindicinemas.mp4', 'f:\\\\Shinchan\\\\16Shin Chan S05E16 Hindi - @hdhindicinemas.mp4', 'f:\\\\Shinchan\\\\17Shin Chan S05E17 Hindi - @hdhindicinemas.mp4', 'f:\\\\Shinchan\\\\18Shin Chan S05E18 Hindi - @hdhindicinemas.mp4', 'f:\\\\Shinchan\\\\19Shin Chan S05E19 Hindi - @hdhindicinemas.mp4', 'f:\\\\Shinchan\\\\1Shin Chan S05E01 Hindi - @hdhindicinemas.mp4', 'f:\\\\Shinchan\\\\20Shin Chan S05E20 Hindi - @hdhindicinemas.mp4', 'f:\\\\Shinchan\\\\21Shin Chan S05E21 Hindi - @hdhindicinemas.mp4', 'f:\\\\Shinchan\\\\23Shin Chan S05E23 Hindi - @hdhindicinemas.mp4', 'f:\\\\Shinchan\\\\24Shin Chan S05E24 Hindi - @hdhindicinemas.mp4', 'f:\\\\Shinchan\\\\25Shin Chan S05E25 Hindi - @hdhindicinemas.mp4', 'f:\\\\Shinchan\\\\26Shin Chan S05E26 Hindi - @hdhindicinemas.mp4', 'f:\\\\Shinchan\\\\27Shin Chan S05E27 Hindi - @hdhindicinemas.mp4', 'f:\\\\Shinchan\\\\28Shin Chan S05E28 Hindi - @hdhindicinemas.mp4', 'f:\\\\Shinchan\\\\29Shin Chan S05E29 Hindi - @hdhindicinemas.mp4', 'f:\\\\Shinchan\\\\2Shin Chan S05E02 Hindi - @hdhindicinemas.mp4', 'f:\\\\Shinchan\\\\30Shin Chan S05E30 Hindi - @hdhindicinemas.mp4', 'f:\\\\Shinchan\\\\31Shin Chan S05E31 Hindi - @hdhindicinemas.mp4', 'f:\\\\Shinchan\\\\32Shin Chan S05E32 Hindi - @hdhindicinemas.mp4', 'f:\\\\Shinchan\\\\33Shin Chan S05E33 Hindi - @hdhindicinemas.mp4', 'f:\\\\Shinchan\\\\34Shin Chan S05E34 Hindi - @hdhindicinemas.mp4', 'f:\\\\Shinchan\\\\35Shin Chan S05E35 Hindi - @hdhindicinemas.mp4', 'f:\\\\Shinchan\\\\36Shin Chan S05E36 Hindi - @hdhindicinemas.mp4', 'f:\\\\Shinchan\\\\37Shin Chan S05E37 Hindi - @hdhindicinemas.mp4', 'f:\\\\Shinchan\\\\38Shin Chan S05E38 Hindi - @hdhindicinemas.mp4', 'f:\\\\Shinchan\\\\39Shin Chan S05E39 Hindi - @hdhindicinemas.mp4', 'f:\\\\Shinchan\\\\3Shin Chan S05E03 Hindi - @hdhindicinemas.mp4', 'f:\\\\Shinchan\\\\40Shin Chan S05E40 Hindi - @hdhindicinemas.mp4', 'f:\\\\Shinchan\\\\41Shin Chan S05E41 Hindi - @hdhindicinemas.mp4', 'f:\\\\Shinchan\\\\42Shin Chan S05E42 Hindi - @hdhindicinemas.mp4', 'f:\\\\Shinchan\\\\43Shin Chan S05E43 Hindi - @hdhindicinemas.mp4', 'f:\\\\Shinchan\\\\44Shin Chan S05E44 Hindi - @hdhindicinemas.mp4', 'f:\\\\Shinchan\\\\45Shin Chan S05E45 Hindi - @hdhindicinemas.mp4', 'f:\\\\Shinchan\\\\46Shin Chan S05E46 Hindi - @hdhindicinemas.mp4', 'f:\\\\Shinchan\\\\47Shin Chan S05E47 Hindi - @hdhindicinemas.mp4', 'f:\\\\Shinchan\\\\48Shin Chan S05E48 Hindi - @hdhindicinemas.mp4', 'f:\\\\Shinchan\\\\49Shin Chan S05E49 Hindi - @hdhindicinemas.mp4', 'f:\\\\Shinchan\\\\4Shin Chan S05E04 Hindi - @hdhindicinemas.mp4', 'f:\\\\Shinchan\\\\50Shin Chan S05E50 Hindi - @hdhindicinemas.mp4', 'f:\\\\Shinchan\\\\51Shin Chan S05E51 Hindi - @hdhindicinemas.mp4', 'f:\\\\Shinchan\\\\52Shin Chan S05E52 Hindi - @hdhindicinemas.mp4', 'f:\\\\Shinchan\\\\5Shin Chan S05E05 Hindi - @hdhindicinemas.mp4', 'f:\\\\Shinchan\\\\6Shin Chan S05E06 Hindi - @hdhindicinemas.mp4', 'f:\\\\Shinchan\\\\7Shin Chan S05E07 Hindi - @hdhindicinemas.mp4', 'f:\\\\Shinchan\\\\8Shin Chan S05E08 Hindi - @hdhindicinemas.mp4', 'f:\\\\Shinchan\\\\9Shin Chan S05E09 Hindi - @hdhindicinemas.mp4', 'f:\\\\Shinchan\\\\@Shinchanhindi_S05E02.mkv', 'f:\\\\Shinchan\\\\@Shinchanhindi_S05E03.mkv', 'f:\\\\Shinchan\\\\@Shinchanhindi_S05E05.mkv', 'f:\\\\Shinchan\\\\@Shinchanhindi_S05E06.mkv', 'f:\\\\Shinchan\\\\@Shinchanhindi_S05E07.mkv', 'f:\\\\Shinchan\\\\@Shinchanhindi_S05E08.mkv', 'f:\\\\Shinchan\\\\@Shinchanhindi_S05E09.mkv', 'f:\\\\Shinchan\\\\Shinchan Action kamen Vs Higure @Shinchanhindi.mkv', 'f:\\\\Shinchan\\\\ShinchanS01E01 @shinchanhindi.mkv', 'f:\\\\Shinchan\\\\ShinchanS01E02 @shinchanhindi.mkv', 'f:\\\\Shinchan\\\\ShinchanS01E03 @shinchanhindi.mkv', 'f:\\\\Shinchan\\\\ShinchanS01E04 @shinchanhindi.mkv', 'f:\\\\Shinchan\\\\ShinchanS01E06@shinchanhindi.mkv', 'f:\\\\Shinchan\\\\ShinchanS01E07@shinchanhindi.mkv', 'f:\\\\Shinchan\\\\ShinchanS01E08@shinchanhindi.mkv', 'f:\\\\Shinchan\\\\ShinchanS01E09 @shinchanhindi.mkv', 'f:\\\\Shinchan\\\\ShinchanS01E10@shinchanhindi.mkv', 'f:\\\\Shinchan\\\\ShinchanS01E11@shinchanhindi.mkv', 'f:\\\\Shinchan\\\\ShinchanS01E12@shinchanhindi.mkv', 'f:\\\\Shinchan\\\\ShinchanS01E13@shinchanhindi.mkv', 'f:\\\\Shinchan\\\\ShinchanS01E16@shinchanhindi.mkv', 'f:\\\\Shinchan\\\\ShinchanS01E17@shinchanhindi.mkv', 'f:\\\\Shinchan\\\\ShinchanS01E18@shinchanhindi.mkv', 'f:\\\\Shinchan\\\\ShinchanS01E19@shinchanhindi.mkv', 'f:\\\\Shinchan\\\\ShinchanS01E20@shinchanhindi.mkv', 'f:\\\\Shinchan\\\\ShinchanS01E22@shinchanhindi.mkv', 'f:\\\\Shinchan\\\\ShinchanS01E23@shinchanhindi.mkv', 'f:\\\\Shinchan\\\\ShinchanS01E24@shinchanhindi.mkv', 'f:\\\\Shinchan\\\\ShinchanS01E25@shinchanhindi.mkv', 'f:\\\\Shinchan\\\\ShinchanS01E26@shinchanhindi.mkv', 'f:\\\\Shinchan\\\\ShinchanS01E27@shinchanhindi.mkv', 'f:\\\\Shinchan\\\\ShinchanS01E28@shinchanhindi.mkv', 'f:\\\\Shinchan\\\\ShinchanS01E29@shinchanhindi.mkv', 'f:\\\\Shinchan\\\\ShinchanS01E30@shinchanhindi.mkv', 'f:\\\\Shinchan\\\\ShinchanS01E31@shinchanhindi.mkv', 'f:\\\\Shinchan\\\\ShinchanS01E32@shinchanhindi.mkv', 'f:\\\\Shinchan\\\\ShinchanS01E33@shinchanhindi.mkv', 'f:\\\\Shinchan\\\\ShinchanS01E34@shinchanhindi.mkv', 'f:\\\\Shinchan\\\\ShinchanS01E35@shinchanhindi.mkv', 'f:\\\\Shinchan\\\\ShinchanS01E36@shinchanhindi.mkv', 'f:\\\\Shinchan\\\\ShinchanS01E37@shinchanhindi.mkv', 'f:\\\\Shinchan\\\\ShinchanS01E38@shinchanhindi.mkv', 'f:\\\\Shinchan\\\\ShinchanS01E39@shinchanhindi.mkv', 'f:\\\\Shinchan\\\\ShinchanS01E40@shinchanhindi.mkv', 'f:\\\\Shinchan\\\\ShinchanS01E41@shinchanhindi.mkv', 'f:\\\\Shinchan\\\\ShinchanS01E42@shinchanhindi.mkv', 'f:\\\\Shinchan\\\\ShinchanS01E43@shinchanhindi.mkv', 'f:\\\\Shinchan\\\\ShinchanS01E44@shinchanhindi.mkv', 'f:\\\\Shinchan\\\\ShinchanS01E45@shinchanhindi.mkv', 'f:\\\\Shinchan\\\\ShinchanS01E46@shinchanhindi.mkv', 'f:\\\\Shinchan\\\\ShinchanS01E47@shinchanhindi.mkv', 'f:\\\\Shinchan\\\\ShinchanS01E48@shinchanhindi.mkv', 'f:\\\\Shinchan\\\\ShinchanS01E49@shinchanhindi.mkv', 'f:\\\\Shinchan\\\\ShinchanS01E4@shinchanhindi.mkv', 'f:\\\\Shinchan\\\\ShinchanS01E50@shinchanhindi.mkv', 'f:\\\\Shinchan\\\\ShinchanS01E51@shinchanhindi.mkv', 'f:\\\\Shinchan\\\\ShinchanS01E52@shinchanhindi.mkv', 'f:\\\\Shinchan\\\\ShinchanS01E5@shinchanhindi.mkv', 'f:\\\\Shinchan\\\\ShinchanS02E01-@shinchanhindi.mkv', 'f:\\\\Shinchan\\\\ShinchanS02E02-@shinchanhindi.mkv', 'f:\\\\Shinchan\\\\ShinchanS02E03-@shinchanhindi.mkv', 'f:\\\\Shinchan\\\\ShinchanS02E04-@shinchanhindi.mkv', 'f:\\\\Shinchan\\\\ShinchanS02E05-@shinchanhindi.mkv', 'f:\\\\Shinchan\\\\ShinchanS02E06-@shinchanhindi.mkv', 'f:\\\\Shinchan\\\\ShinchanS02E07-@shinchanhindi.mkv', 'f:\\\\Shinchan\\\\ShinchanS02E08-@shinchanhindi.mkv', 'f:\\\\Shinchan\\\\ShinchanS02E09-@shinchanhindi.mkv', 'f:\\\\Shinchan\\\\ShinchanS02E10-@shinchanhindi.mkv', 'f:\\\\Shinchan\\\\ShinchanS02E11-@shinchanhindi.mkv', 'f:\\\\Shinchan\\\\ShinchanS02E12-@shinchanhindi.mkv', 'f:\\\\Shinchan\\\\ShinchanS02E13-@shinchanhindi.mkv', 'f:\\\\Shinchan\\\\ShinchanS02E14-@shinchanhindi.mkv', 'f:\\\\Shinchan\\\\ShinchanS02E15-@shinchanhindi.mkv', 'f:\\\\Shinchan\\\\ShinchanS02E16-@shinchanhindi.mkv', 'f:\\\\Shinchan\\\\ShinchanS02E17-@shinchanhindi.mkv', 'f:\\\\Shinchan\\\\ShinchanS02E18-@shinchanhindi.mkv', 'f:\\\\Shinchan\\\\ShinchanS02E19-@shinchanhindi.mkv', 'f:\\\\Shinchan\\\\ShinchanS02E20-@shinchanhindi.mkv', 'f:\\\\Shinchan\\\\ShinchanS02E21-@shinchanhindi.mkv', 'f:\\\\Shinchan\\\\ShinchanS02E22-@shinchanhindi.mkv', 'f:\\\\Shinchan\\\\ShinchanS02E23-@shinchanhindi.mkv', 'f:\\\\Shinchan\\\\ShinchanS02E24-@shinchanhindi.mkv', 'f:\\\\Shinchan\\\\ShinchanS02E25-@shinchanhindi.mkv', 'f:\\\\Shinchan\\\\ShinchanS02E26-@shinchanhindi.mkv', 'f:\\\\Shinchan\\\\ShinchanS02E27-@shinchanhindi.mkv', 'f:\\\\Shinchan\\\\ShinchanS02E28-@shinchanhindi.mkv', 'f:\\\\Shinchan\\\\ShinchanS02E29-@shinchanhindi.mkv', 'f:\\\\Shinchan\\\\ShinchanS02E30-@shinchanhindi.mkv', 'f:\\\\Shinchan\\\\ShinchanS02E31-@shinchanhindi.mkv', 'f:\\\\Shinchan\\\\ShinchanS02E32-@shinchanhindi.mkv', 'f:\\\\Shinchan\\\\ShinchanS02E33-@shinchanhindi.mkv', 'f:\\\\Shinchan\\\\ShinchanS02E34-@shinchanhindi.mkv', 'f:\\\\Shinchan\\\\ShinchanS02E35-@shinchanhindi.mkv', 'f:\\\\Shinchan\\\\ShinchanS02E36-@shinchanhindi.mkv', 'f:\\\\Shinchan\\\\ShinchanS02E37-@shinchanhindi.mkv', 'f:\\\\Shinchan\\\\ShinchanS02E38-@shinchanhindi.mkv', 'f:\\\\Shinchan\\\\ShinchanS02E39-@shinchanhindi.mkv', 'f:\\\\Shinchan\\\\ShinchanS02E40-@shinchanhindi.mkv', 'f:\\\\Shinchan\\\\ShinchanS02E41-@shinchanhindi.mkv', 'f:\\\\Shinchan\\\\ShinchanS02E42-@shinchanhindi.mkv', 'f:\\\\Shinchan\\\\ShinchanS02E43-@shinchanhindi.mkv', 'f:\\\\Shinchan\\\\ShinchanS02E44-@shinchanhindi.mkv', 'f:\\\\Shinchan\\\\ShinchanS02E45-@shinchanhindi.mkv', 'f:\\\\Shinchan\\\\ShinchanS02E46-@shinchanhindi.mkv', 'f:\\\\Shinchan\\\\ShinchanS02E47-@shinchanhindi.mkv', 'f:\\\\Shinchan\\\\ShinchanS02E48-@shinchanhindi.mkv', 'f:\\\\Shinchan\\\\ShinchanS02E49-@shinchanhindi.mkv', 'f:\\\\Shinchan\\\\ShinchanS02E50-@shinchanhindi.mkv', 'f:\\\\Shinchan\\\\ShinchanS02E52-@shinchanhindi.mkv', 'f:\\\\Shinchan\\\\ShinchanS03E01@shinchanhindi.mkv', 'f:\\\\Shinchan\\\\ShinchanS03E02@shinchanhindi.mkv', 'f:\\\\Shinchan\\\\ShinchanS03E03@shinchanhindi.mkv', 'f:\\\\Shinchan\\\\ShinChanS3EP04@shinchanhindi.mp4', 'f:\\\\Shinchan\\\\Shinchan_Bungle In the Jungle.@shinchanhindi.mkv', 'f:\\\\Shinchan\\\\Shinchan_movie_Kaanta_Laga_@shinchanhindi.mp4', 'f:\\\\Shinchan\\\\Shin_Chan_Movie_01_in_Treasures_Of_the_Buri_Buri_Kingdom_DeadToonsIndia.mkv', 'f:\\\\Shinchan\\\\Shin_Chan_Movie_04_Adventures_In.mkv', 'f:\\\\Shinchan\\\\Shin_Chan_S05E01.mkv']\n"
     ]
    }
   ],
   "source": [
    "files_list = []\n",
    "for root, directories, files in os.walk('f:\\Shinchan'):\n",
    "   for name in files:\n",
    "      files_list.append(os.path.join(root, name))\n",
    "print(files_list)"
   ]
  },
  {
   "cell_type": "code",
   "execution_count": 24,
   "id": "fe345ed1",
   "metadata": {},
   "outputs": [
    {
     "name": "stdout",
     "output_type": "stream",
     "text": [
      "['F:\\\\Shinchan\\\\10Shin Chan S05E10 Hindi - @hdhindicinemas.mp4', 'F:\\\\Shinchan\\\\11Shin Chan S05E11 Hindi - @hdhindicinemas.mp4', 'F:\\\\Shinchan\\\\12Shin Chan S05E12 Hindi - @hdhindicinemas.mp4', 'F:\\\\Shinchan\\\\13Shin Chan S05E13 Hindi - @hdhindicinemas.mp4', 'F:\\\\Shinchan\\\\14Shin Chan S05E14 Hindi - @hdhindicinemas.mp4', 'F:\\\\Shinchan\\\\15Shin Chan S05E15 Hindi - @hdhindicinemas.mp4', 'F:\\\\Shinchan\\\\16Shin Chan S05E16 Hindi - @hdhindicinemas.mp4', 'F:\\\\Shinchan\\\\17Shin Chan S05E17 Hindi - @hdhindicinemas.mp4', 'F:\\\\Shinchan\\\\18Shin Chan S05E18 Hindi - @hdhindicinemas.mp4', 'F:\\\\Shinchan\\\\19Shin Chan S05E19 Hindi - @hdhindicinemas.mp4', 'F:\\\\Shinchan\\\\1Shin Chan S05E01 Hindi - @hdhindicinemas.mp4', 'F:\\\\Shinchan\\\\20Shin Chan S05E20 Hindi - @hdhindicinemas.mp4', 'F:\\\\Shinchan\\\\21Shin Chan S05E21 Hindi - @hdhindicinemas.mp4', 'F:\\\\Shinchan\\\\23Shin Chan S05E23 Hindi - @hdhindicinemas.mp4', 'F:\\\\Shinchan\\\\24Shin Chan S05E24 Hindi - @hdhindicinemas.mp4', 'F:\\\\Shinchan\\\\25Shin Chan S05E25 Hindi - @hdhindicinemas.mp4', 'F:\\\\Shinchan\\\\26Shin Chan S05E26 Hindi - @hdhindicinemas.mp4', 'F:\\\\Shinchan\\\\27Shin Chan S05E27 Hindi - @hdhindicinemas.mp4', 'F:\\\\Shinchan\\\\28Shin Chan S05E28 Hindi - @hdhindicinemas.mp4', 'F:\\\\Shinchan\\\\29Shin Chan S05E29 Hindi - @hdhindicinemas.mp4', 'F:\\\\Shinchan\\\\2Shin Chan S05E02 Hindi - @hdhindicinemas.mp4', 'F:\\\\Shinchan\\\\30Shin Chan S05E30 Hindi - @hdhindicinemas.mp4', 'F:\\\\Shinchan\\\\31Shin Chan S05E31 Hindi - @hdhindicinemas.mp4', 'F:\\\\Shinchan\\\\32Shin Chan S05E32 Hindi - @hdhindicinemas.mp4', 'F:\\\\Shinchan\\\\33Shin Chan S05E33 Hindi - @hdhindicinemas.mp4', 'F:\\\\Shinchan\\\\34Shin Chan S05E34 Hindi - @hdhindicinemas.mp4', 'F:\\\\Shinchan\\\\35Shin Chan S05E35 Hindi - @hdhindicinemas.mp4', 'F:\\\\Shinchan\\\\36Shin Chan S05E36 Hindi - @hdhindicinemas.mp4', 'F:\\\\Shinchan\\\\37Shin Chan S05E37 Hindi - @hdhindicinemas.mp4', 'F:\\\\Shinchan\\\\38Shin Chan S05E38 Hindi - @hdhindicinemas.mp4', 'F:\\\\Shinchan\\\\39Shin Chan S05E39 Hindi - @hdhindicinemas.mp4', 'F:\\\\Shinchan\\\\3Shin Chan S05E03 Hindi - @hdhindicinemas.mp4', 'F:\\\\Shinchan\\\\40Shin Chan S05E40 Hindi - @hdhindicinemas.mp4', 'F:\\\\Shinchan\\\\41Shin Chan S05E41 Hindi - @hdhindicinemas.mp4', 'F:\\\\Shinchan\\\\42Shin Chan S05E42 Hindi - @hdhindicinemas.mp4', 'F:\\\\Shinchan\\\\43Shin Chan S05E43 Hindi - @hdhindicinemas.mp4', 'F:\\\\Shinchan\\\\44Shin Chan S05E44 Hindi - @hdhindicinemas.mp4', 'F:\\\\Shinchan\\\\45Shin Chan S05E45 Hindi - @hdhindicinemas.mp4', 'F:\\\\Shinchan\\\\46Shin Chan S05E46 Hindi - @hdhindicinemas.mp4', 'F:\\\\Shinchan\\\\47Shin Chan S05E47 Hindi - @hdhindicinemas.mp4', 'F:\\\\Shinchan\\\\48Shin Chan S05E48 Hindi - @hdhindicinemas.mp4', 'F:\\\\Shinchan\\\\49Shin Chan S05E49 Hindi - @hdhindicinemas.mp4', 'F:\\\\Shinchan\\\\4Shin Chan S05E04 Hindi - @hdhindicinemas.mp4', 'F:\\\\Shinchan\\\\50Shin Chan S05E50 Hindi - @hdhindicinemas.mp4', 'F:\\\\Shinchan\\\\51Shin Chan S05E51 Hindi - @hdhindicinemas.mp4', 'F:\\\\Shinchan\\\\52Shin Chan S05E52 Hindi - @hdhindicinemas.mp4', 'F:\\\\Shinchan\\\\5Shin Chan S05E05 Hindi - @hdhindicinemas.mp4', 'F:\\\\Shinchan\\\\6Shin Chan S05E06 Hindi - @hdhindicinemas.mp4', 'F:\\\\Shinchan\\\\7Shin Chan S05E07 Hindi - @hdhindicinemas.mp4', 'F:\\\\Shinchan\\\\8Shin Chan S05E08 Hindi - @hdhindicinemas.mp4', 'F:\\\\Shinchan\\\\9Shin Chan S05E09 Hindi - @hdhindicinemas.mp4', 'F:\\\\Shinchan\\\\ShinChanS3EP04@shinchanhindi.mp4', 'F:\\\\Shinchan\\\\Shinchan_movie_Kaanta_Laga_@shinchanhindi.mp4']\n"
     ]
    }
   ],
   "source": [
    "file_list = glob.glob(\"F:\\Shinchan\\*mp4\")\n",
    "print(file_list)"
   ]
  },
  {
   "cell_type": "code",
   "execution_count": 45,
   "id": "dabd58bc",
   "metadata": {
    "scrolled": true
   },
   "outputs": [
    {
     "ename": "ValueError",
     "evalue": "File is not a recognized excel file",
     "output_type": "error",
     "traceback": [
      "\u001b[1;31m---------------------------------------------------------------------------\u001b[0m",
      "\u001b[1;31mValueError\u001b[0m                                Traceback (most recent call last)",
      "\u001b[1;32m<ipython-input-45-64467acefa14>\u001b[0m in \u001b[0;36m<module>\u001b[1;34m\u001b[0m\n\u001b[0;32m      3\u001b[0m \u001b[1;32mfor\u001b[0m \u001b[0mfilename\u001b[0m \u001b[1;32min\u001b[0m \u001b[0mfile_list\u001b[0m\u001b[1;33m:\u001b[0m\u001b[1;33m\u001b[0m\u001b[1;33m\u001b[0m\u001b[0m\n\u001b[0;32m      4\u001b[0m     \u001b[1;31m#df = pd.read_excel(\"F:\\\\Shinchan\\*mp4\")\u001b[0m\u001b[1;33m\u001b[0m\u001b[1;33m\u001b[0m\u001b[1;33m\u001b[0m\u001b[0m\n\u001b[1;32m----> 5\u001b[1;33m     \u001b[0mdf\u001b[0m \u001b[1;33m=\u001b[0m \u001b[0mpd\u001b[0m\u001b[1;33m.\u001b[0m\u001b[0mread_excel\u001b[0m\u001b[1;33m(\u001b[0m\u001b[0mfilename\u001b[0m\u001b[1;33m)\u001b[0m\u001b[1;33m\u001b[0m\u001b[1;33m\u001b[0m\u001b[0m\n\u001b[0m\u001b[0;32m      6\u001b[0m     \u001b[0mfiles\u001b[0m\u001b[1;33m.\u001b[0m\u001b[0mappend\u001b[0m\u001b[1;33m(\u001b[0m\u001b[0mdf\u001b[0m\u001b[1;33m)\u001b[0m\u001b[1;33m\u001b[0m\u001b[1;33m\u001b[0m\u001b[0m\n\u001b[0;32m      7\u001b[0m \u001b[0mframe\u001b[0m \u001b[1;33m=\u001b[0m \u001b[0mpd\u001b[0m\u001b[1;33m.\u001b[0m\u001b[0mconcat\u001b[0m\u001b[1;33m(\u001b[0m\u001b[0mfiles\u001b[0m\u001b[1;33m,\u001b[0m \u001b[0maxis\u001b[0m\u001b[1;33m=\u001b[0m\u001b[1;36m0\u001b[0m\u001b[1;33m,\u001b[0m \u001b[0mignore_index\u001b[0m\u001b[1;33m=\u001b[0m\u001b[1;32mTrue\u001b[0m\u001b[1;33m)\u001b[0m\u001b[1;33m\u001b[0m\u001b[1;33m\u001b[0m\u001b[0m\n",
      "\u001b[1;32mC:\\ProgramData\\Anaconda3\\lib\\site-packages\\pandas\\util\\_decorators.py\u001b[0m in \u001b[0;36mwrapper\u001b[1;34m(*args, **kwargs)\u001b[0m\n\u001b[0;32m    297\u001b[0m                 )\n\u001b[0;32m    298\u001b[0m                 \u001b[0mwarnings\u001b[0m\u001b[1;33m.\u001b[0m\u001b[0mwarn\u001b[0m\u001b[1;33m(\u001b[0m\u001b[0mmsg\u001b[0m\u001b[1;33m,\u001b[0m \u001b[0mFutureWarning\u001b[0m\u001b[1;33m,\u001b[0m \u001b[0mstacklevel\u001b[0m\u001b[1;33m=\u001b[0m\u001b[0mstacklevel\u001b[0m\u001b[1;33m)\u001b[0m\u001b[1;33m\u001b[0m\u001b[1;33m\u001b[0m\u001b[0m\n\u001b[1;32m--> 299\u001b[1;33m             \u001b[1;32mreturn\u001b[0m \u001b[0mfunc\u001b[0m\u001b[1;33m(\u001b[0m\u001b[1;33m*\u001b[0m\u001b[0margs\u001b[0m\u001b[1;33m,\u001b[0m \u001b[1;33m**\u001b[0m\u001b[0mkwargs\u001b[0m\u001b[1;33m)\u001b[0m\u001b[1;33m\u001b[0m\u001b[1;33m\u001b[0m\u001b[0m\n\u001b[0m\u001b[0;32m    300\u001b[0m \u001b[1;33m\u001b[0m\u001b[0m\n\u001b[0;32m    301\u001b[0m         \u001b[1;32mreturn\u001b[0m \u001b[0mwrapper\u001b[0m\u001b[1;33m\u001b[0m\u001b[1;33m\u001b[0m\u001b[0m\n",
      "\u001b[1;32mC:\\ProgramData\\Anaconda3\\lib\\site-packages\\pandas\\io\\excel\\_base.py\u001b[0m in \u001b[0;36mread_excel\u001b[1;34m(io, sheet_name, header, names, index_col, usecols, squeeze, dtype, engine, converters, true_values, false_values, skiprows, nrows, na_values, keep_default_na, na_filter, verbose, parse_dates, date_parser, thousands, comment, skipfooter, convert_float, mangle_dupe_cols, storage_options)\u001b[0m\n\u001b[0;32m    334\u001b[0m     \u001b[1;32mif\u001b[0m \u001b[1;32mnot\u001b[0m \u001b[0misinstance\u001b[0m\u001b[1;33m(\u001b[0m\u001b[0mio\u001b[0m\u001b[1;33m,\u001b[0m \u001b[0mExcelFile\u001b[0m\u001b[1;33m)\u001b[0m\u001b[1;33m:\u001b[0m\u001b[1;33m\u001b[0m\u001b[1;33m\u001b[0m\u001b[0m\n\u001b[0;32m    335\u001b[0m         \u001b[0mshould_close\u001b[0m \u001b[1;33m=\u001b[0m \u001b[1;32mTrue\u001b[0m\u001b[1;33m\u001b[0m\u001b[1;33m\u001b[0m\u001b[0m\n\u001b[1;32m--> 336\u001b[1;33m         \u001b[0mio\u001b[0m \u001b[1;33m=\u001b[0m \u001b[0mExcelFile\u001b[0m\u001b[1;33m(\u001b[0m\u001b[0mio\u001b[0m\u001b[1;33m,\u001b[0m \u001b[0mstorage_options\u001b[0m\u001b[1;33m=\u001b[0m\u001b[0mstorage_options\u001b[0m\u001b[1;33m,\u001b[0m \u001b[0mengine\u001b[0m\u001b[1;33m=\u001b[0m\u001b[0mengine\u001b[0m\u001b[1;33m)\u001b[0m\u001b[1;33m\u001b[0m\u001b[1;33m\u001b[0m\u001b[0m\n\u001b[0m\u001b[0;32m    337\u001b[0m     \u001b[1;32melif\u001b[0m \u001b[0mengine\u001b[0m \u001b[1;32mand\u001b[0m \u001b[0mengine\u001b[0m \u001b[1;33m!=\u001b[0m \u001b[0mio\u001b[0m\u001b[1;33m.\u001b[0m\u001b[0mengine\u001b[0m\u001b[1;33m:\u001b[0m\u001b[1;33m\u001b[0m\u001b[1;33m\u001b[0m\u001b[0m\n\u001b[0;32m    338\u001b[0m         raise ValueError(\n",
      "\u001b[1;32mC:\\ProgramData\\Anaconda3\\lib\\site-packages\\pandas\\io\\excel\\_base.py\u001b[0m in \u001b[0;36m__init__\u001b[1;34m(self, path_or_buffer, engine, storage_options)\u001b[0m\n\u001b[0;32m   1069\u001b[0m                 \u001b[0mext\u001b[0m \u001b[1;33m=\u001b[0m \u001b[1;34m\"xls\"\u001b[0m\u001b[1;33m\u001b[0m\u001b[1;33m\u001b[0m\u001b[0m\n\u001b[0;32m   1070\u001b[0m             \u001b[1;32melse\u001b[0m\u001b[1;33m:\u001b[0m\u001b[1;33m\u001b[0m\u001b[1;33m\u001b[0m\u001b[0m\n\u001b[1;32m-> 1071\u001b[1;33m                 ext = inspect_excel_format(\n\u001b[0m\u001b[0;32m   1072\u001b[0m                     \u001b[0mcontent\u001b[0m\u001b[1;33m=\u001b[0m\u001b[0mpath_or_buffer\u001b[0m\u001b[1;33m,\u001b[0m \u001b[0mstorage_options\u001b[0m\u001b[1;33m=\u001b[0m\u001b[0mstorage_options\u001b[0m\u001b[1;33m\u001b[0m\u001b[1;33m\u001b[0m\u001b[0m\n\u001b[0;32m   1073\u001b[0m                 )\n",
      "\u001b[1;32mC:\\ProgramData\\Anaconda3\\lib\\site-packages\\pandas\\io\\excel\\_base.py\u001b[0m in \u001b[0;36minspect_excel_format\u001b[1;34m(path, content, storage_options)\u001b[0m\n\u001b[0;32m    963\u001b[0m             \u001b[1;32mreturn\u001b[0m \u001b[1;34m\"xls\"\u001b[0m\u001b[1;33m\u001b[0m\u001b[1;33m\u001b[0m\u001b[0m\n\u001b[0;32m    964\u001b[0m         \u001b[1;32melif\u001b[0m \u001b[1;32mnot\u001b[0m \u001b[0mpeek\u001b[0m\u001b[1;33m.\u001b[0m\u001b[0mstartswith\u001b[0m\u001b[1;33m(\u001b[0m\u001b[0mZIP_SIGNATURE\u001b[0m\u001b[1;33m)\u001b[0m\u001b[1;33m:\u001b[0m\u001b[1;33m\u001b[0m\u001b[1;33m\u001b[0m\u001b[0m\n\u001b[1;32m--> 965\u001b[1;33m             \u001b[1;32mraise\u001b[0m \u001b[0mValueError\u001b[0m\u001b[1;33m(\u001b[0m\u001b[1;34m\"File is not a recognized excel file\"\u001b[0m\u001b[1;33m)\u001b[0m\u001b[1;33m\u001b[0m\u001b[1;33m\u001b[0m\u001b[0m\n\u001b[0m\u001b[0;32m    966\u001b[0m \u001b[1;33m\u001b[0m\u001b[0m\n\u001b[0;32m    967\u001b[0m         \u001b[1;31m# ZipFile typing is overly-strict\u001b[0m\u001b[1;33m\u001b[0m\u001b[1;33m\u001b[0m\u001b[1;33m\u001b[0m\u001b[0m\n",
      "\u001b[1;31mValueError\u001b[0m: File is not a recognized excel file"
     ]
    }
   ],
   "source": [
    "file_list = glob.glob(\"F:\\Shinchan\\*mp4\")\n",
    "files = []\n",
    "for filename in file_list:\n",
    "    #df = pd.read_excel(\"F:\\\\Shinchan\\*mp4\")\n",
    "    df = pd.read_excel(filename)\n",
    "    files.append(df)\n",
    "frame = pd.concat(files, axis=0, ignore_index=True)\n",
    "print(frame)"
   ]
  },
  {
   "cell_type": "code",
   "execution_count": null,
   "id": "62c11915",
   "metadata": {},
   "outputs": [],
   "source": [
    "opxl"
   ]
  },
  {
   "cell_type": "code",
   "execution_count": null,
   "id": "a6605fac",
   "metadata": {},
   "outputs": [],
   "source": []
  }
 ],
 "metadata": {
  "kernelspec": {
   "display_name": "Python 3",
   "language": "python",
   "name": "python3"
  },
  "language_info": {
   "codemirror_mode": {
    "name": "ipython",
    "version": 3
   },
   "file_extension": ".py",
   "mimetype": "text/x-python",
   "name": "python",
   "nbconvert_exporter": "python",
   "pygments_lexer": "ipython3",
   "version": "3.8.8"
  }
 },
 "nbformat": 4,
 "nbformat_minor": 5
}
