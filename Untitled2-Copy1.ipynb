{
 "cells": [
  {
   "cell_type": "code",
   "execution_count": 1,
   "id": "9cf5cb6d",
   "metadata": {},
   "outputs": [
    {
     "name": "stderr",
     "output_type": "stream",
     "text": [
      "Matplotlib is building the font cache; this may take a moment.\n"
     ]
    }
   ],
   "source": [
    "import camelot as cam\n",
    "import ghostscript\n",
    "import os"
   ]
  },
  {
   "cell_type": "code",
   "execution_count": 2,
   "id": "6136250a",
   "metadata": {},
   "outputs": [
    {
     "data": {
      "text/plain": [
       "'\\\\\\\\bpspfilnor401\\\\BluePrism\\\\Python Projects'"
      ]
     },
     "execution_count": 2,
     "metadata": {},
     "output_type": "execute_result"
    }
   ],
   "source": [
    "os.getcwd()"
   ]
  },
  {
   "cell_type": "code",
   "execution_count": 3,
   "id": "df0f8b6d",
   "metadata": {},
   "outputs": [],
   "source": [
    "os.chdir(r\"\\\\Bpspfilnor401\\BluePrism\\WCT\\Correspb Indexing\\4_8_2022\\SPLIT\\ck.pdf_SPLIT_FOLDER\")"
   ]
  },
  {
   "cell_type": "code",
   "execution_count": 4,
   "id": "37f0a33e",
   "metadata": {},
   "outputs": [
    {
     "data": {
      "text/plain": [
       "['ck1.pdf',\n",
       " 'ck10.pdf',\n",
       " 'ck11.pdf',\n",
       " 'ck12.pdf',\n",
       " 'ck13.pdf',\n",
       " 'ck14.pdf',\n",
       " 'ck15.pdf',\n",
       " 'ck16.pdf',\n",
       " 'ck17.pdf',\n",
       " 'ck18.pdf',\n",
       " 'ck19.pdf',\n",
       " 'ck2.pdf',\n",
       " 'ck20.pdf',\n",
       " 'ck21.pdf',\n",
       " 'ck22.pdf',\n",
       " 'ck23.pdf',\n",
       " 'ck24.pdf',\n",
       " 'ck25.pdf',\n",
       " 'ck26.pdf',\n",
       " 'ck27.pdf',\n",
       " 'ck28.pdf',\n",
       " 'ck29.pdf',\n",
       " 'ck3.pdf',\n",
       " 'ck30.pdf',\n",
       " 'ck31.pdf',\n",
       " 'ck4.pdf',\n",
       " 'ck5.pdf',\n",
       " 'ck6.pdf',\n",
       " 'ck7.pdf',\n",
       " 'ck8.pdf',\n",
       " 'ck9.pdf']"
      ]
     },
     "execution_count": 4,
     "metadata": {},
     "output_type": "execute_result"
    }
   ],
   "source": [
    "os.getcwd()\n",
    "os.listdir()"
   ]
  },
  {
   "cell_type": "code",
   "execution_count": 7,
   "id": "3b9c631f",
   "metadata": {},
   "outputs": [],
   "source": [
    "\n",
    "#source: file:///C://Users//kulra//OneDrive/Desktop/ilovepdf_split/12%202021%20120%20Day%20OS%20Checks%2005%2018%2021%20to%2008%2007%2021%20%20143%202%20pg-1.pdf\n",
    "table = cam.read_pdf(\"ck1.pdf\", pages = '1', flavor = 'stream')\n",
    "# dir(cam)"
   ]
  },
  {
   "cell_type": "code",
   "execution_count": 8,
   "id": "eaaadf9e",
   "metadata": {},
   "outputs": [
    {
     "data": {
      "text/html": [
       "<div>\n",
       "<style scoped>\n",
       "    .dataframe tbody tr th:only-of-type {\n",
       "        vertical-align: middle;\n",
       "    }\n",
       "\n",
       "    .dataframe tbody tr th {\n",
       "        vertical-align: top;\n",
       "    }\n",
       "\n",
       "    .dataframe thead th {\n",
       "        text-align: right;\n",
       "    }\n",
       "</style>\n",
       "<table border=\"1\" class=\"dataframe\">\n",
       "  <thead>\n",
       "    <tr style=\"text-align: right;\">\n",
       "      <th></th>\n",
       "      <th>0</th>\n",
       "      <th>1</th>\n",
       "      <th>2</th>\n",
       "      <th>3</th>\n",
       "    </tr>\n",
       "  </thead>\n",
       "  <tbody>\n",
       "    <tr>\n",
       "      <th>0</th>\n",
       "      <td></td>\n",
       "      <td></td>\n",
       "      <td>AutoCheck - Payout</td>\n",
       "      <td></td>\n",
       "    </tr>\n",
       "    <tr>\n",
       "      <th>1</th>\n",
       "      <td></td>\n",
       "      <td></td>\n",
       "      <td>AutoCheck Requisition</td>\n",
       "      <td></td>\n",
       "    </tr>\n",
       "    <tr>\n",
       "      <th>2</th>\n",
       "      <td>Policy:</td>\n",
       "      <td>C22324573A</td>\n",
       "      <td>FA State:</td>\n",
       "      <td>CA</td>\n",
       "    </tr>\n",
       "    <tr>\n",
       "      <th>3</th>\n",
       "      <td>Plan:</td>\n",
       "      <td>144\\nCQRA Life</td>\n",
       "      <td>Tran Type:</td>\n",
       "      <td>F1</td>\n",
       "    </tr>\n",
       "    <tr>\n",
       "      <th>4</th>\n",
       "      <td>Payee:</td>\n",
       "      <td>EISBOCK FUNDING</td>\n",
       "      <td></td>\n",
       "      <td></td>\n",
       "    </tr>\n",
       "    <tr>\n",
       "      <th>5</th>\n",
       "      <td></td>\n",
       "      <td></td>\n",
       "      <td>Status:</td>\n",
       "      <td>Pending Approval</td>\n",
       "    </tr>\n",
       "    <tr>\n",
       "      <th>6</th>\n",
       "      <td>Payable To:</td>\n",
       "      <td>EISBOCK FUNDING, LLC #522589</td>\n",
       "      <td></td>\n",
       "      <td></td>\n",
       "    </tr>\n",
       "    <tr>\n",
       "      <th>7</th>\n",
       "      <td></td>\n",
       "      <td></td>\n",
       "      <td></td>\n",
       "      <td>4/8/2022 7:38:48 AM</td>\n",
       "    </tr>\n",
       "    <tr>\n",
       "      <th>8</th>\n",
       "      <td></td>\n",
       "      <td></td>\n",
       "      <td>Status Date:</td>\n",
       "      <td></td>\n",
       "    </tr>\n",
       "    <tr>\n",
       "      <th>9</th>\n",
       "      <td>Address:</td>\n",
       "      <td>RE: TESSA HART</td>\n",
       "      <td></td>\n",
       "      <td></td>\n",
       "    </tr>\n",
       "    <tr>\n",
       "      <th>10</th>\n",
       "      <td></td>\n",
       "      <td></td>\n",
       "      <td>Approved By:</td>\n",
       "      <td></td>\n",
       "    </tr>\n",
       "    <tr>\n",
       "      <th>11</th>\n",
       "      <td></td>\n",
       "      <td>P.O. BOX 102265</td>\n",
       "      <td></td>\n",
       "      <td></td>\n",
       "    </tr>\n",
       "    <tr>\n",
       "      <th>12</th>\n",
       "      <td></td>\n",
       "      <td>ATLANTA, GA 30368-2265</td>\n",
       "      <td></td>\n",
       "      <td></td>\n",
       "    </tr>\n",
       "  </tbody>\n",
       "</table>\n",
       "</div>"
      ],
      "text/plain": [
       "              0                             1                      2  \\\n",
       "0                                                 AutoCheck - Payout   \n",
       "1                                              AutoCheck Requisition   \n",
       "2       Policy:                    C22324573A              FA State:   \n",
       "3         Plan:                144\\nCQRA Life             Tran Type:   \n",
       "4        Payee:               EISBOCK FUNDING                          \n",
       "5                                                            Status:   \n",
       "6   Payable To:  EISBOCK FUNDING, LLC #522589                          \n",
       "7                                                                      \n",
       "8                                                       Status Date:   \n",
       "9      Address:                RE: TESSA HART                          \n",
       "10                                                      Approved By:   \n",
       "11                            P.O. BOX 102265                          \n",
       "12                     ATLANTA, GA 30368-2265                          \n",
       "\n",
       "                      3  \n",
       "0                        \n",
       "1                        \n",
       "2                    CA  \n",
       "3                    F1  \n",
       "4                        \n",
       "5      Pending Approval  \n",
       "6                        \n",
       "7   4/8/2022 7:38:48 AM  \n",
       "8                        \n",
       "9                        \n",
       "10                       \n",
       "11                       \n",
       "12                       "
      ]
     },
     "execution_count": 8,
     "metadata": {},
     "output_type": "execute_result"
    }
   ],
   "source": [
    "table[0].df"
   ]
  },
  {
   "cell_type": "code",
   "execution_count": 9,
   "id": "acf9242c",
   "metadata": {},
   "outputs": [
    {
     "data": {
      "text/plain": [
       "'C22324573A'"
      ]
     },
     "execution_count": 9,
     "metadata": {},
     "output_type": "execute_result"
    }
   ],
   "source": [
    "table[0].df[[0,1]].iat[2,1]\n"
   ]
  },
  {
   "cell_type": "code",
   "execution_count": 10,
   "id": "139b4942",
   "metadata": {},
   "outputs": [
    {
     "ename": "FileNotFoundError",
     "evalue": "[WinError 3] The system cannot find the path specified: 'C:\\\\Users\\\\kulra\\\\OneDrive\\\\Desktop\\\\SplittedPDF\\\\Prototype_checks_for_April_2,_2022_through_April_5,_2022'",
     "output_type": "error",
     "traceback": [
      "\u001b[1;31m---------------------------------------------------------------------------\u001b[0m",
      "\u001b[1;31mFileNotFoundError\u001b[0m                         Traceback (most recent call last)",
      "\u001b[1;32m\\BluePrism\\Python Projects\\Untitled2-Copy1.ipynb Cell 8'\u001b[0m in \u001b[0;36m<cell line: 48>\u001b[1;34m()\u001b[0m\n\u001b[0;32m     <a href='vscode-notebook-cell://bpspfilnor401/BluePrism/Python%20Projects/Untitled2-Copy1.ipynb#ch0000007?line=42'>43</a>\u001b[0m files \u001b[39m=\u001b[39m get_files_recursively(\u001b[39mr\u001b[39m\u001b[39m\"\u001b[39m\u001b[39mC:\u001b[39m\u001b[39m\\\u001b[39m\u001b[39mUsers\u001b[39m\u001b[39m\\\u001b[39m\u001b[39mkulra\u001b[39m\u001b[39m\\\u001b[39m\u001b[39mOneDrive\u001b[39m\u001b[39m\\\u001b[39m\u001b[39mDesktop\u001b[39m\u001b[39m\\\u001b[39m\u001b[39mSplittedPDF\u001b[39m\u001b[39m\\\u001b[39m\u001b[39mPrototype_checks_for_April_2,_2022_through_April_5,_2022\u001b[39m\u001b[39m\"\u001b[39m)\n\u001b[0;32m     <a href='vscode-notebook-cell://bpspfilnor401/BluePrism/Python%20Projects/Untitled2-Copy1.ipynb#ch0000007?line=44'>45</a>\u001b[0m \u001b[39m#for file_names in files:\u001b[39;00m\n\u001b[0;32m     <a href='vscode-notebook-cell://bpspfilnor401/BluePrism/Python%20Projects/Untitled2-Copy1.ipynb#ch0000007?line=45'>46</a>\u001b[0m \u001b[39m#   print(file_names)\u001b[39;00m\n\u001b[1;32m---> <a href='vscode-notebook-cell://bpspfilnor401/BluePrism/Python%20Projects/Untitled2-Copy1.ipynb#ch0000007?line=47'>48</a>\u001b[0m file\u001b[39m=\u001b[39m\u001b[39mlist\u001b[39;49m(files)\n\u001b[0;32m     <a href='vscode-notebook-cell://bpspfilnor401/BluePrism/Python%20Projects/Untitled2-Copy1.ipynb#ch0000007?line=49'>50</a>\u001b[0m \u001b[39m#print(type(files))\u001b[39;00m\n\u001b[0;32m     <a href='vscode-notebook-cell://bpspfilnor401/BluePrism/Python%20Projects/Untitled2-Copy1.ipynb#ch0000007?line=50'>51</a>\u001b[0m \u001b[39mprint\u001b[39m(\u001b[39mlen\u001b[39m(file))\n",
      "\u001b[1;32m\\BluePrism\\Python Projects\\Untitled2-Copy1.ipynb Cell 8'\u001b[0m in \u001b[0;36mget_files_recursively\u001b[1;34m(directory)\u001b[0m\n\u001b[0;32m     <a href='vscode-notebook-cell://bpspfilnor401/BluePrism/Python%20Projects/Untitled2-Copy1.ipynb#ch0000007?line=36'>37</a>\u001b[0m \u001b[39mdef\u001b[39;00m \u001b[39mget_files_recursively\u001b[39m(directory):\n\u001b[1;32m---> <a href='vscode-notebook-cell://bpspfilnor401/BluePrism/Python%20Projects/Untitled2-Copy1.ipynb#ch0000007?line=37'>38</a>\u001b[0m     \u001b[39myield from\u001b[39;00m get_files(directory)\n\u001b[0;32m     <a href='vscode-notebook-cell://bpspfilnor401/BluePrism/Python%20Projects/Untitled2-Copy1.ipynb#ch0000007?line=38'>39</a>\u001b[0m     \u001b[39mfor\u001b[39;00m subdirectory \u001b[39min\u001b[39;00m get_directories(directory):\n\u001b[0;32m     <a href='vscode-notebook-cell://bpspfilnor401/BluePrism/Python%20Projects/Untitled2-Copy1.ipynb#ch0000007?line=39'>40</a>\u001b[0m         \u001b[39myield from\u001b[39;00m get_files_recursively(subdirectory)\n",
      "\u001b[1;32m\\BluePrism\\Python Projects\\Untitled2-Copy1.ipynb Cell 8'\u001b[0m in \u001b[0;36mget_files\u001b[1;34m(path)\u001b[0m\n\u001b[0;32m     <a href='vscode-notebook-cell://bpspfilnor401/BluePrism/Python%20Projects/Untitled2-Copy1.ipynb#ch0000007?line=10'>11</a>\u001b[0m \u001b[39mdef\u001b[39;00m \u001b[39mget_files\u001b[39m(path):\n\u001b[1;32m---> <a href='vscode-notebook-cell://bpspfilnor401/BluePrism/Python%20Projects/Untitled2-Copy1.ipynb#ch0000007?line=11'>12</a>\u001b[0m     \u001b[39mfor\u001b[39;00m file \u001b[39min\u001b[39;00m listdir(path):\n\u001b[0;32m     <a href='vscode-notebook-cell://bpspfilnor401/BluePrism/Python%20Projects/Untitled2-Copy1.ipynb#ch0000007?line=12'>13</a>\u001b[0m         full_path \u001b[39m=\u001b[39m join(path, file)\n\u001b[0;32m     <a href='vscode-notebook-cell://bpspfilnor401/BluePrism/Python%20Projects/Untitled2-Copy1.ipynb#ch0000007?line=13'>14</a>\u001b[0m         \u001b[39mif\u001b[39;00m isfile(full_path):\n",
      "\u001b[1;31mFileNotFoundError\u001b[0m: [WinError 3] The system cannot find the path specified: 'C:\\\\Users\\\\kulra\\\\OneDrive\\\\Desktop\\\\SplittedPDF\\\\Prototype_checks_for_April_2,_2022_through_April_5,_2022'"
     ]
    }
   ],
   "source": [
    "\n",
    "from os import chdir, listdir\n",
    "from os.path import isfile, join, exists, isdir\n",
    "import camelot\n",
    "\n",
    "# print(\"\\\\\".join((r\"C:\\kdata\\myPYTHON\\Python_Courses\\Python_March2022_Tutorials\\Day9\\Generators\", \"entry.py\")))\n",
    "# print(os.getcwd())\n",
    "# new_file_name = join(r\"C:\\kdata\\myPYTHON\\Python_Courses\\Python_March2022_Tutorials\\Day9\\Generators\", \"entry.py\")\n",
    "# print(new_file_name)\n",
    "\n",
    "\n",
    "def get_files(path):\n",
    "    for file in listdir(path):\n",
    "        full_path = join(path, file)\n",
    "        if isfile(full_path):\n",
    "            if exists(full_path):\n",
    "                yield full_path\n",
    "\n",
    "\n",
    "def get_directories(path):\n",
    "    for directory in listdir(path):\n",
    "        full_path = join(path, directory)\n",
    "        if isdir(full_path):\n",
    "            if exists(full_path):\n",
    "                yield full_path\n",
    "\n",
    "\n",
    "# def get_files_recursively(directory):\n",
    "#     for file in get_files(directory):\n",
    "#         yield file\n",
    "#     for subdirectory in get_directories(directory):\n",
    "#         for file in get_files_recursively(subdirectory):\n",
    "#             yield file\n",
    "\n",
    "# simplified version of above function\n",
    "\n",
    "\n",
    "def get_files_recursively(directory):\n",
    "    yield from get_files(directory)\n",
    "    for subdirectory in get_directories(directory):\n",
    "        yield from get_files_recursively(subdirectory)\n",
    "\n",
    "\n",
    "# files = get_files_recursively(r\"C:\\Users\\kulra\\OneDrive\\Desktop\\SplittedPDF\\Prototype_checks_for_April_2,_2022_through_April_5,_2022\")\n",
    "\n",
    "#for file_names in files:\n",
    "#   print(file_names)\n",
    "\n",
    "# file=list(files)\n",
    "\n",
    "#print(type(files))\n",
    "# print(len(file))\n",
    "\n",
    "# def convert(lit): \n",
    "#     res_dct={lit[i]:\"\" for i in range(len(lit))}\n",
    "\n",
    "#     #res_dct={lit[i]:i for i in range(len(lit))}\n",
    "#     return res_dct\n",
    "# def convert2(lit): \n",
    "#     #res_dct={lit[i]:\"\" for i in range(len(lit))}\n",
    "\n",
    "#     res_dct={lit[i]:i for i in range(len(lit))}\n",
    "#     return res_dct\n",
    "\n",
    "# #cdict={file:range(len(file))}\n",
    "\n",
    "# #filesInDictionaryString=convert(file)\n",
    "# filesInDictionaryNumber=convert2(file)\n",
    "\n",
    "# #for c in cdict:\n",
    "# #    print (c)\n",
    "\n",
    "# #print(filesInDictionaryString)\n",
    "# #print(filesInDictionaryNumber)\n",
    "\n",
    "# chdir(r\"C:\\Users\\kulra\\OneDrive\\Desktop\\SplittedPDF\\Prototype_checks_for_April_2,_2022_through_April_5,_2022\")\n",
    "# fileDictionary={}\n",
    "# print(dir)\n"
   ]
  },
  {
   "cell_type": "code",
   "execution_count": null,
   "id": "77597c90",
   "metadata": {},
   "outputs": [
    {
     "name": "stdout",
     "output_type": "stream",
     "text": [
      "C:\\Users\\kulra\\OneDrive\\Desktop\\SplittedPDF\\Prototype_checks_for_April_2,_2022_through_April_5,_2022\\ck1.pdf\n",
      "C21332345A\n",
      "C:\\Users\\kulra\\OneDrive\\Desktop\\SplittedPDF\\Prototype_checks_for_April_2,_2022_through_April_5,_2022\\ck10.pdf\n",
      "C21370940A\n",
      "C:\\Users\\kulra\\OneDrive\\Desktop\\SplittedPDF\\Prototype_checks_for_April_2,_2022_through_April_5,_2022\\ck11.pdf\n",
      "C21370940A\n",
      "C:\\Users\\kulra\\OneDrive\\Desktop\\SplittedPDF\\Prototype_checks_for_April_2,_2022_through_April_5,_2022\\ck12.pdf\n",
      "C21406539A\n",
      "C:\\Users\\kulra\\OneDrive\\Desktop\\SplittedPDF\\Prototype_checks_for_April_2,_2022_through_April_5,_2022\\ck13.pdf\n",
      "C22324883A\n",
      "C:\\Users\\kulra\\OneDrive\\Desktop\\SplittedPDF\\Prototype_checks_for_April_2,_2022_through_April_5,_2022\\ck2.pdf\n",
      "C22322943A\n",
      "C:\\Users\\kulra\\OneDrive\\Desktop\\SplittedPDF\\Prototype_checks_for_April_2,_2022_through_April_5,_2022\\ck3.pdf\n",
      "C21405126A\n",
      "C:\\Users\\kulra\\OneDrive\\Desktop\\SplittedPDF\\Prototype_checks_for_April_2,_2022_through_April_5,_2022\\ck4.pdf\n",
      "C21335050A\n",
      "C:\\Users\\kulra\\OneDrive\\Desktop\\SplittedPDF\\Prototype_checks_for_April_2,_2022_through_April_5,_2022\\ck5.pdf\n",
      "C21304098A\n",
      "C:\\Users\\kulra\\OneDrive\\Desktop\\SplittedPDF\\Prototype_checks_for_April_2,_2022_through_April_5,_2022\\ck6.pdf\n",
      "C21304098A\n",
      "C:\\Users\\kulra\\OneDrive\\Desktop\\SplittedPDF\\Prototype_checks_for_April_2,_2022_through_April_5,_2022\\ck7.pdf\n",
      "C21405934A\n",
      "C:\\Users\\kulra\\OneDrive\\Desktop\\SplittedPDF\\Prototype_checks_for_April_2,_2022_through_April_5,_2022\\ck8.pdf\n",
      "C21405934A\n",
      "C:\\Users\\kulra\\OneDrive\\Desktop\\SplittedPDF\\Prototype_checks_for_April_2,_2022_through_April_5,_2022\\ck9.pdf\n",
      "C21405934A\n"
     ]
    }
   ],
   "source": [
    "\n",
    "for value in filesInDictionaryNumber:\n",
    "    print(value)\n",
    "    #print(key.value())\n",
    "    table = cam.read_pdf(value, pages = '1', flavor = 'stream')\n",
    "    filesInDictionaryNumber[value]= table[0].df[[0,1]].iat[2,1]\n",
    "    print(table[0].df[[0,1]].iat[2,1])\n",
    "    #tables[0].df[4][tables[0].df[4].str.strip().astype(bool)]"
   ]
  },
  {
   "cell_type": "code",
   "execution_count": null,
   "id": "974d2e98",
   "metadata": {},
   "outputs": [
    {
     "name": "stdout",
     "output_type": "stream",
     "text": [
      "{'C:\\\\Users\\\\kulra\\\\OneDrive\\\\Desktop\\\\SplittedPDF\\\\Prototype_checks_for_April_2,_2022_through_April_5,_2022\\\\ck1.pdf': 'C21332345A', 'C:\\\\Users\\\\kulra\\\\OneDrive\\\\Desktop\\\\SplittedPDF\\\\Prototype_checks_for_April_2,_2022_through_April_5,_2022\\\\ck10.pdf': 'C21370940A', 'C:\\\\Users\\\\kulra\\\\OneDrive\\\\Desktop\\\\SplittedPDF\\\\Prototype_checks_for_April_2,_2022_through_April_5,_2022\\\\ck11.pdf': 'C21370940A', 'C:\\\\Users\\\\kulra\\\\OneDrive\\\\Desktop\\\\SplittedPDF\\\\Prototype_checks_for_April_2,_2022_through_April_5,_2022\\\\ck12.pdf': 'C21406539A', 'C:\\\\Users\\\\kulra\\\\OneDrive\\\\Desktop\\\\SplittedPDF\\\\Prototype_checks_for_April_2,_2022_through_April_5,_2022\\\\ck13.pdf': 'C22324883A', 'C:\\\\Users\\\\kulra\\\\OneDrive\\\\Desktop\\\\SplittedPDF\\\\Prototype_checks_for_April_2,_2022_through_April_5,_2022\\\\ck2.pdf': 'C22322943A', 'C:\\\\Users\\\\kulra\\\\OneDrive\\\\Desktop\\\\SplittedPDF\\\\Prototype_checks_for_April_2,_2022_through_April_5,_2022\\\\ck3.pdf': 'C21405126A', 'C:\\\\Users\\\\kulra\\\\OneDrive\\\\Desktop\\\\SplittedPDF\\\\Prototype_checks_for_April_2,_2022_through_April_5,_2022\\\\ck4.pdf': 'C21335050A', 'C:\\\\Users\\\\kulra\\\\OneDrive\\\\Desktop\\\\SplittedPDF\\\\Prototype_checks_for_April_2,_2022_through_April_5,_2022\\\\ck5.pdf': 'C21304098A', 'C:\\\\Users\\\\kulra\\\\OneDrive\\\\Desktop\\\\SplittedPDF\\\\Prototype_checks_for_April_2,_2022_through_April_5,_2022\\\\ck6.pdf': 'C21304098A', 'C:\\\\Users\\\\kulra\\\\OneDrive\\\\Desktop\\\\SplittedPDF\\\\Prototype_checks_for_April_2,_2022_through_April_5,_2022\\\\ck7.pdf': 'C21405934A', 'C:\\\\Users\\\\kulra\\\\OneDrive\\\\Desktop\\\\SplittedPDF\\\\Prototype_checks_for_April_2,_2022_through_April_5,_2022\\\\ck8.pdf': 'C21405934A', 'C:\\\\Users\\\\kulra\\\\OneDrive\\\\Desktop\\\\SplittedPDF\\\\Prototype_checks_for_April_2,_2022_through_April_5,_2022\\\\ck9.pdf': 'C21405934A'}\n"
     ]
    }
   ],
   "source": [
    "print(filesInDictionaryNumber)"
   ]
  },
  {
   "cell_type": "code",
   "execution_count": null,
   "id": "3d2b5371",
   "metadata": {},
   "outputs": [
    {
     "ename": "AttributeError",
     "evalue": "'dict' object has no attribute 'iteritems'",
     "output_type": "error",
     "traceback": [
      "\u001b[1;31m---------------------------------------------------------------------------\u001b[0m",
      "\u001b[1;31mAttributeError\u001b[0m                            Traceback (most recent call last)",
      "\u001b[1;32m<ipython-input-37-75067570b5d4>\u001b[0m in \u001b[0;36m<module>\u001b[1;34m\u001b[0m\n\u001b[0;32m      3\u001b[0m \u001b[1;32mwith\u001b[0m \u001b[0mopen\u001b[0m\u001b[1;33m(\u001b[0m\u001b[1;34m'output.csv'\u001b[0m\u001b[1;33m,\u001b[0m \u001b[1;34m'wb'\u001b[0m\u001b[1;33m)\u001b[0m \u001b[1;32mas\u001b[0m \u001b[0moutput\u001b[0m\u001b[1;33m:\u001b[0m\u001b[1;33m\u001b[0m\u001b[1;33m\u001b[0m\u001b[0m\n\u001b[0;32m      4\u001b[0m     \u001b[0mwriter\u001b[0m \u001b[1;33m=\u001b[0m \u001b[0mcsv\u001b[0m\u001b[1;33m.\u001b[0m\u001b[0mwriter\u001b[0m\u001b[1;33m(\u001b[0m\u001b[0moutput\u001b[0m\u001b[1;33m)\u001b[0m\u001b[1;33m\u001b[0m\u001b[1;33m\u001b[0m\u001b[0m\n\u001b[1;32m----> 5\u001b[1;33m     \u001b[1;32mfor\u001b[0m \u001b[0mkey\u001b[0m\u001b[1;33m,\u001b[0m \u001b[0mvalue\u001b[0m \u001b[1;32min\u001b[0m \u001b[0mfilesInDictionaryNumber\u001b[0m\u001b[1;33m.\u001b[0m\u001b[0miteritems\u001b[0m\u001b[1;33m(\u001b[0m\u001b[1;33m)\u001b[0m\u001b[1;33m:\u001b[0m\u001b[1;33m\u001b[0m\u001b[1;33m\u001b[0m\u001b[0m\n\u001b[0m\u001b[0;32m      6\u001b[0m         \u001b[0mwriter\u001b[0m\u001b[1;33m.\u001b[0m\u001b[0mwriterow\u001b[0m\u001b[1;33m(\u001b[0m\u001b[1;33m[\u001b[0m\u001b[0mkey\u001b[0m\u001b[1;33m,\u001b[0m \u001b[0mvalue\u001b[0m\u001b[1;33m]\u001b[0m\u001b[1;33m)\u001b[0m\u001b[1;33m\u001b[0m\u001b[1;33m\u001b[0m\u001b[0m\n",
      "\u001b[1;31mAttributeError\u001b[0m: 'dict' object has no attribute 'iteritems'"
     ]
    }
   ],
   "source": [
    "import csv\n",
    "\n",
    "with open('output.csv', 'wb') as output:\n",
    "    writer = csv.writer(output)\n",
    "    for key, value in filesInDictionaryNumber.iteritems():\n",
    "        writer.writerow([key, value])"
   ]
  },
  {
   "cell_type": "code",
   "execution_count": null,
   "id": "a5c3b98b",
   "metadata": {},
   "outputs": [
    {
     "name": "stdout",
     "output_type": "stream",
     "text": [
      "                                                             0\n",
      "C:\\Users\\kulra\\OneDrive\\Desktop\\SplittedPDF\\Pro...  C21332345A\n",
      "C:\\Users\\kulra\\OneDrive\\Desktop\\SplittedPDF\\Pro...  C21370940A\n",
      "C:\\Users\\kulra\\OneDrive\\Desktop\\SplittedPDF\\Pro...  C21370940A\n",
      "C:\\Users\\kulra\\OneDrive\\Desktop\\SplittedPDF\\Pro...  C21406539A\n",
      "C:\\Users\\kulra\\OneDrive\\Desktop\\SplittedPDF\\Pro...  C22324883A\n",
      "C:\\Users\\kulra\\OneDrive\\Desktop\\SplittedPDF\\Pro...  C22322943A\n",
      "C:\\Users\\kulra\\OneDrive\\Desktop\\SplittedPDF\\Pro...  C21405126A\n",
      "C:\\Users\\kulra\\OneDrive\\Desktop\\SplittedPDF\\Pro...  C21335050A\n",
      "C:\\Users\\kulra\\OneDrive\\Desktop\\SplittedPDF\\Pro...  C21304098A\n",
      "C:\\Users\\kulra\\OneDrive\\Desktop\\SplittedPDF\\Pro...  C21304098A\n",
      "C:\\Users\\kulra\\OneDrive\\Desktop\\SplittedPDF\\Pro...  C21405934A\n",
      "C:\\Users\\kulra\\OneDrive\\Desktop\\SplittedPDF\\Pro...  C21405934A\n",
      "C:\\Users\\kulra\\OneDrive\\Desktop\\SplittedPDF\\Pro...  C21405934A\n"
     ]
    }
   ],
   "source": [
    "import pandas as pd\n",
    "\n",
    "\n",
    "df = pd.DataFrame(data=filesInDictionaryNumber, index=[0])\n",
    "\n",
    "df = (df.T)\n",
    "\n",
    "print (df)\n",
    "\n",
    "df.to_excel('dict2.xlsx')"
   ]
  },
  {
   "cell_type": "code",
   "execution_count": null,
   "id": "9bed782a",
   "metadata": {},
   "outputs": [],
   "source": []
  }
 ],
 "metadata": {
  "kernelspec": {
   "display_name": "Python 3",
   "language": "python",
   "name": "python3"
  },
  "language_info": {
   "codemirror_mode": {
    "name": "ipython",
    "version": 3
   },
   "file_extension": ".py",
   "mimetype": "text/x-python",
   "name": "python",
   "nbconvert_exporter": "python",
   "pygments_lexer": "ipython3",
   "version": "3.10.2"
  }
 },
 "nbformat": 4,
 "nbformat_minor": 5
}
