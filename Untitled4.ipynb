{
 "cells": [
  {
   "cell_type": "code",
   "execution_count": 1,
   "id": "fd444fba",
   "metadata": {},
   "outputs": [
    {
     "name": "stdout",
     "output_type": "stream",
     "text": [
      "\\\\Bpspfilnor401\\BluePrism\\GAFG\\GAFG_AgentB_Indexing\\4_7_2022\\SPLIT\\April 2022 AML 30-day Notice.pdf_SPLIT_FOLDER\n"
     ]
    }
   ],
   "source": [
    "import os\n",
    "os.chdir(r\"\\\\Bpspfilnor401\\BluePrism\\GAFG\\GAFG_AgentB_Indexing\\4_7_2022\\SPLIT\\April 2022 AML 30-day Notice.pdf_SPLIT_FOLDER\")\n",
    "print(os.getcwd())"
   ]
  },
  {
   "cell_type": "code",
   "execution_count": null,
   "id": "3d10bf70",
   "metadata": {},
   "outputs": [],
   "source": [
    "from ReadPDF"
   ]
  }
 ],
 "metadata": {
  "kernelspec": {
   "display_name": "Python 3",
   "language": "python",
   "name": "python3"
  },
  "language_info": {
   "codemirror_mode": {
    "name": "ipython",
    "version": 3
   },
   "file_extension": ".py",
   "mimetype": "text/x-python",
   "name": "python",
   "nbconvert_exporter": "python",
   "pygments_lexer": "ipython3",
   "version": "3.10.2"
  }
 },
 "nbformat": 4,
 "nbformat_minor": 5
}
